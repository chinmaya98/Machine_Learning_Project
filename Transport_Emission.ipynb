{
 "cells": [
  {
   "cell_type": "code",
   "execution_count": null,
   "id": "721b1c4f",
   "metadata": {
    "id": "721b1c4f",
    "outputId": "a79ebd5f-019f-4360-f796-7472b2819fb9"
   },
   "outputs": [
    {
     "name": "stdout",
     "output_type": "stream",
     "text": [
      "CO2 Emissions per Month calculation completed and saved in 'Transport_updated.csv'\n"
     ]
    }
   ],
   "source": [
    "import pandas as pd\n",
    "\n",
    "# Function to calculate CO2 emissions per month\n",
    "def calculate_co2_emissions(row):\n",
    "    distance = row['Distance Traveled (In Miles)']\n",
    "    frequency_week = row['Frequency(Per Week)']\n",
    "    fuel_efficiency = row['Fuel Efficiency']\n",
    "    fuel_carbon_content = 8.8  # Assuming gasoline with 8.8 kg CO2 per gallon\n",
    "    weeks_per_month = 4  # Assuming approximately 4 weeks in a month\n",
    "\n",
    "    # Calculate CO2 emissions in kg for one week\n",
    "    co2_per_week = (distance * frequency_week) / fuel_efficiency * fuel_carbon_content\n",
    "\n",
    "    # Calculate CO2 emissions in kg for one month\n",
    "    co2_per_month = co2_per_week * weeks_per_month\n",
    "\n",
    "    return round(co2_per_month, 2)\n",
    "\n",
    "# Read the CSV file\n",
    "df = pd.read_csv('Transport original.csv')  # Make sure to replace 'Transport_original.csv' with your actual file name\n",
    "\n",
    "# Apply the function to calculate CO2 emissions and create a new column\n",
    "df['CO2 Emissions per Month (kg)'] = df.apply(calculate_co2_emissions, axis=1)\n",
    "\n",
    "# Save the updated DataFrame to a new CSV file\n",
    "df.to_csv('Transport.csv', index=False)\n",
    "\n",
    "print(\"CO2 Emissions per Month calculation completed and saved in 'Transport_updated.csv'\")\n"
   ]
  },
  {
   "cell_type": "code",
   "execution_count": null,
   "id": "dd803bfd",
   "metadata": {
    "id": "dd803bfd"
   },
   "outputs": [],
   "source": []
  }
 ],
 "metadata": {
  "colab": {
   "provenance": []
  },
  "kernelspec": {
   "display_name": "Python 3 (ipykernel)",
   "language": "python",
   "name": "python3"
  },
  "language_info": {
   "codemirror_mode": {
    "name": "ipython",
    "version": 3
   },
   "file_extension": ".py",
   "mimetype": "text/x-python",
   "name": "python",
   "nbconvert_exporter": "python",
   "pygments_lexer": "ipython3",
   "version": "3.11.4"
  }
 },
 "nbformat": 4,
 "nbformat_minor": 5
}
